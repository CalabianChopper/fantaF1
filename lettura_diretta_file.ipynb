{
 "cells": [
  {
   "cell_type": "markdown",
   "id": "f17fdd95",
   "metadata": {},
   "source": [
    "import requests\n",
    "from bs4 import BeautifulSoup\n",
    "import csv"
   ]
  },
  {
   "cell_type": "markdown",
   "id": "5ac75a09",
   "metadata": {},
   "source": [
    "# URL della pagina web da cui estrarre i risultati\n",
    "url = 'https://it.motorsport.com/f1/results/2023/gp-daustralia-625627/?st=RACE'\n"
   ]
  },
  {
   "cell_type": "markdown",
   "id": "8ecc6d8d",
   "metadata": {},
   "source": [
    "# Effettua una richiesta GET della pagina web e ottiene il contenuto HTML\n",
    "response = requests.get(url)"
   ]
  },
  {
   "cell_type": "markdown",
   "id": "ae19eb36",
   "metadata": {},
   "source": [
    "# Parsing del contenuto HTML con BeautifulSoup\n",
    "soup = BeautifulSoup(response.content, 'html.parser')"
   ]
  },
  {
   "cell_type": "markdown",
   "id": "530cd581",
   "metadata": {},
   "source": [
    "BASE_URL.format(row['prefix_1'], year, row['prefix_2'])"
   ]
  },
  {
   "cell_type": "markdown",
   "id": "ab48946d",
   "metadata": {},
   "source": [
    "# Trova la tabella dei risultati\n",
    "table = soup.find('table', class_='table-sm').tbody"
   ]
  },
  {
   "cell_type": "markdown",
   "id": "3a051e3b",
   "metadata": {},
   "source": [
    "# Crea una lista vuota per salvare i dati dei risultati\n",
    "results = []"
   ]
  },
  {
   "cell_type": "markdown",
   "id": "3fc3d2ef",
   "metadata": {},
   "source": [
    "# Cicla tra tutte le righe della tabella\n",
    "for row in table.find_all('tr'):\n",
    "    # Trova tutte le celle della riga\n",
    "    cells = row.find_all('td')\n",
    "    # Estrae i valori delle celle e li aggiunge alla lista dei risultati\n",
    "    results.append([cell.text.strip() for cell in cells])"
   ]
  },
  {
   "cell_type": "markdown",
   "id": "0268ac4e",
   "metadata": {},
   "source": [
    "# Salva i risultati in un file CSV\n",
    "with open('risultati.csv', 'w', newline='', encoding='utf-8') as f:\n",
    "    writer = csv.writer(f)\n",
    "    writer.writerows(results)"
   ]
  },
  {
   "cell_type": "code",
   "execution_count": 1,
   "id": "11baa66f",
   "metadata": {},
   "outputs": [],
   "source": [
    "import requests\n",
    "from bs4 import BeautifulSoup"
   ]
  },
  {
   "cell_type": "markdown",
   "id": "248fe4fb",
   "metadata": {},
   "source": [
    "url = \"https://www.quattroruote.it/formula1/risultati.shtml\"\n",
    "html = requests.get(url).text\n",
    "soup = BeautifulSoup(html, 'html.parser')"
   ]
  },
  {
   "cell_type": "markdown",
   "id": "0a182f87",
   "metadata": {},
   "source": [
    "# estraiamo tutte le tabelle dalla pagina\n",
    "tables = soup.find_all('table')\n"
   ]
  },
  {
   "cell_type": "code",
   "execution_count": 2,
   "id": "75e3dd40",
   "metadata": {},
   "outputs": [],
   "source": [
    "matrix = []\n",
    "lista = []"
   ]
  },
  {
   "cell_type": "markdown",
   "id": "592a0817",
   "metadata": {},
   "source": [
    "for table in tables:\n",
    "    rows = table.find_all('tr')\n",
    "    for row in rows:\n",
    "        cols = row.find_all('td')\n",
    "        row_list = []\n",
    "        for col in cols:\n",
    "            row_list.append(col.text.strip())\n",
    "        matrix.append(row_list)"
   ]
  },
  {
   "cell_type": "markdown",
   "id": "e110f9c3",
   "metadata": {},
   "source": [
    "matrix = matrix[1:21]"
   ]
  },
  {
   "cell_type": "markdown",
   "id": "494cbe1b",
   "metadata": {},
   "source": [
    "matrix"
   ]
  },
  {
   "cell_type": "markdown",
   "id": "013ffbe3",
   "metadata": {},
   "source": [
    "for i in range(0, 20):\n",
    "    lista.append(matrix[i][1])"
   ]
  },
  {
   "cell_type": "markdown",
   "id": "e0113446",
   "metadata": {},
   "source": [
    "lista"
   ]
  },
  {
   "cell_type": "code",
   "execution_count": 3,
   "id": "c58e1ae3",
   "metadata": {},
   "outputs": [],
   "source": [
    "url = \"https://www.flashscore.it/auto/formula-1/\"\n",
    "html = requests.get(url).text\n",
    "soup = BeautifulSoup(html, 'html.parser')"
   ]
  },
  {
   "cell_type": "code",
   "execution_count": 4,
   "id": "23a6f5e1",
   "metadata": {},
   "outputs": [],
   "source": [
    "div_content = soup.find(\"div\", class_=\"event__participantName\")"
   ]
  },
  {
   "cell_type": "code",
   "execution_count": 6,
   "id": "789e2cf6",
   "metadata": {},
   "outputs": [
    {
     "ename": "AttributeError",
     "evalue": "'NoneType' object has no attribute 'text'",
     "output_type": "error",
     "traceback": [
      "\u001b[1;31m---------------------------------------------------------------------------\u001b[0m",
      "\u001b[1;31mAttributeError\u001b[0m                            Traceback (most recent call last)",
      "Input \u001b[1;32mIn [6]\u001b[0m, in \u001b[0;36m<cell line: 1>\u001b[1;34m()\u001b[0m\n\u001b[1;32m----> 1\u001b[0m \u001b[43mdiv_content\u001b[49m\u001b[38;5;241;43m.\u001b[39;49m\u001b[43mtext\u001b[49m\n",
      "\u001b[1;31mAttributeError\u001b[0m: 'NoneType' object has no attribute 'text'"
     ]
    }
   ],
   "source": [
    "div_content.text"
   ]
  },
  {
   "cell_type": "markdown",
   "id": "c2ae4b07",
   "metadata": {},
   "source": [
    "div_testo = soup.find(\"div\", {\"class\": \"event__participantName\"})\n",
    "testo = div_testo.text\n",
    "print(testo)"
   ]
  },
  {
   "cell_type": "markdown",
   "id": "55630ca6",
   "metadata": {},
   "source": [
    "# Esempio URL della pagina web\n",
    "url = \"https://www.flashscore.it/auto/formula-1/\"\n",
    "\n",
    "# Effettua una richiesta HTTP per ottenere il contenuto della pagina web\n",
    "page = requests.get(url)\n",
    "\n",
    "# Utilizza BeautifulSoup per analizzare il contenuto della pagina html\n",
    "soup = BeautifulSoup(page.content, 'html.parser')\n",
    "\n",
    "# Trova tutti gli elementi div con la classe \"event__participantName\"\n",
    "participant_names = soup.find_all('div', class_='event__participantName')\n",
    "\n",
    "# Stampa il contenuto dei div trovati\n",
    "for name in participant_names:\n",
    "    print(name)"
   ]
  },
  {
   "cell_type": "code",
   "execution_count": null,
   "id": "de72d657",
   "metadata": {},
   "outputs": [],
   "source": []
  }
 ],
 "metadata": {
  "kernelspec": {
   "display_name": "Python 3 (ipykernel)",
   "language": "python",
   "name": "python3"
  },
  "language_info": {
   "codemirror_mode": {
    "name": "ipython",
    "version": 3
   },
   "file_extension": ".py",
   "mimetype": "text/x-python",
   "name": "python",
   "nbconvert_exporter": "python",
   "pygments_lexer": "ipython3",
   "version": "3.9.12"
  }
 },
 "nbformat": 4,
 "nbformat_minor": 5
}
