{
 "cells": [
  {
   "cell_type": "markdown",
   "id": "20ae0352",
   "metadata": {},
   "source": [
    "# Progetto calcolo punti per FantaF1\n"
   ]
  },
  {
   "cell_type": "code",
   "execution_count": 1,
   "id": "4fc1863e",
   "metadata": {},
   "outputs": [],
   "source": [
    "#Librerie\n",
    "import pandas as pd\n",
    "import numpy as np"
   ]
  },
  {
   "cell_type": "code",
   "execution_count": 2,
   "id": "787e8144",
   "metadata": {},
   "outputs": [],
   "source": [
    "#Ottenimento dati\n",
    "#TODO Prendere file xlsx e trasformarlo in un DataFrame\n",
    "#TODO Estrazione Vettori singoli\n",
    "dizionario = {\"nome\" : [\"Verstappen\",\n",
    "                   \"Russell\",\n",
    "                   \"Hamilton\",\n",
    "                   \"Ocon\",\n",
    "                   \"Alonso\",\n",
    "                   \"Stroll\",\n",
    "                   \"Sainz Jr.\",\n",
    "                   \"Albon\",\n",
    "                   \"Hulkenberg\",\n",
    "                   \"Magnussen\",\n",
    "                   \"Leclerc\",\n",
    "                   \"Norris\",\n",
    "                   \"Gasly\",\n",
    "                   \"De Vries\",\n",
    "                   \"Tsunoda\",\n",
    "                   \"Piastri\",\n",
    "                   \"Yu Zhou\",\n",
    "                   \"Sargeant\",\n",
    "                   \"Bottas\",\n",
    "                   \"Perez\"],\n",
    "         \"punti\" : [0,0,0,0,0,0,0,0,0,0,0,0,0,0,0,0,0,0,0,0]}\n",
    "lista_piloti_pl1 = [\"Verstappen\",\n",
    "                    \"Hamilton\",\n",
    "                    \"Perez\",\n",
    "                    \"Alonso\",\n",
    "                    \"Leclerc\",\n",
    "                    \"Sainz Jr.\",\n",
    "                    \"Norris\",\n",
    "                    \"Gasly\",\n",
    "                    \"Russell\",\n",
    "                    \"Stroll\",\n",
    "                    \"Albon\",\n",
    "                    \"Piastri\",\n",
    "                    \"Hulkenberg\",\n",
    "                    \"De Vries\",\n",
    "                    \"Sargeant\",\n",
    "                    \"Ocon\",\n",
    "                    \"Tsunoda\",\n",
    "                    \"Bottas\",\n",
    "                    \"Yu Zhou\",\n",
    "                    \"Magnussen\"]\n",
    "lista_piloti_pl2 = [\"Alonso\",\n",
    "                   \"Leclerc\",\n",
    "                    \"Verstappen\",\n",
    "                    \"Russell\",\n",
    "                    \"Sainz Jr.\",\n",
    "                    \"Ocon\",\n",
    "                    \"Perez\",\n",
    "                    \"Norris\",\n",
    "                    \"Hulkenberg\",\n",
    "                    \"Gasly\",\n",
    "                    \"Tsunoda\",\n",
    "                    \"Bottas\",\n",
    "                    \"Hamilton\",\n",
    "                    \"Piastri\",\n",
    "                    \"Yu Zhou\",\n",
    "                    \"Stroll\",\n",
    "                    \"De Vries\",\n",
    "                    \"Albon\",\n",
    "                    \"Magnussen\",\n",
    "                    \"Sargeant\"]\n",
    "lista_piloti_pl3 = []\n",
    "lista_piloti_sprint = []\n"
   ]
  },
  {
   "cell_type": "code",
   "execution_count": 3,
   "id": "ef140a09",
   "metadata": {},
   "outputs": [],
   "source": [
    "#Calcolo prova libera 1\n",
    "def pl1 (dizionario, lista_piloti_pl1):\n",
    "    for i in range(0, len(lista_piloti_pl1)):\n",
    "        for j in range (0, len(dizionario[\"nome\"])):\n",
    "            if(lista_piloti_pl1[i] == dizionario[\"nome\"][j]):\n",
    "                if(i<15):\n",
    "                    dizionario[\"punti\"][j] += 2\n",
    "    return dizionario"
   ]
  },
  {
   "cell_type": "code",
   "execution_count": 4,
   "id": "9b02b4ef",
   "metadata": {},
   "outputs": [
    {
     "name": "stdout",
     "output_type": "stream",
     "text": [
      "Verstappen ha un totale di 2 punti \n",
      "Russell ha un totale di 2 punti \n",
      "Hamilton ha un totale di 2 punti \n",
      "Ocon ha un totale di 0 punti \n",
      "Alonso ha un totale di 2 punti \n",
      "Stroll ha un totale di 2 punti \n",
      "Sainz Jr. ha un totale di 2 punti \n",
      "Albon ha un totale di 2 punti \n",
      "Hulkenberg ha un totale di 2 punti \n",
      "Magnussen ha un totale di 0 punti \n",
      "Leclerc ha un totale di 2 punti \n",
      "Norris ha un totale di 2 punti \n",
      "Gasly ha un totale di 2 punti \n",
      "De Vries ha un totale di 2 punti \n",
      "Tsunoda ha un totale di 0 punti \n",
      "Piastri ha un totale di 2 punti \n",
      "Yu Zhou ha un totale di 0 punti \n",
      "Sargeant ha un totale di 2 punti \n",
      "Bottas ha un totale di 0 punti \n",
      "Perez ha un totale di 2 punti \n"
     ]
    }
   ],
   "source": [
    "x = pl1(dizionario, lista_piloti_pl1)\n",
    "for i in range(0, len(x[\"nome\"])):\n",
    "    print(x[\"nome\"][i] + \" ha un totale di \" + str(x[\"punti\"][i]) + \" punti \" )"
   ]
  },
  {
   "cell_type": "code",
   "execution_count": 5,
   "id": "4fc02c7b",
   "metadata": {},
   "outputs": [],
   "source": [
    "#Calcolo prova libera 2\n",
    "def pl2 (dizionario, lista_piloti_pl2):\n",
    "    for i in range(0, len(lista_piloti_pl2)):\n",
    "        for j in range (0, len(dizionario[\"nome\"])):\n",
    "            if(lista_piloti_pl1[i] == dizionario[\"nome\"][j]):\n",
    "                if(i<8):\n",
    "                    dizionario[\"punti\"][j] += 4\n",
    "    return dizionario"
   ]
  },
  {
   "cell_type": "code",
   "execution_count": 6,
   "id": "595b5d84",
   "metadata": {},
   "outputs": [
    {
     "name": "stdout",
     "output_type": "stream",
     "text": [
      "Verstappen ha un totale di 6 punti \n",
      "Russell ha un totale di 2 punti \n",
      "Hamilton ha un totale di 6 punti \n",
      "Ocon ha un totale di 0 punti \n",
      "Alonso ha un totale di 6 punti \n",
      "Stroll ha un totale di 2 punti \n",
      "Sainz Jr. ha un totale di 6 punti \n",
      "Albon ha un totale di 2 punti \n",
      "Hulkenberg ha un totale di 2 punti \n",
      "Magnussen ha un totale di 0 punti \n",
      "Leclerc ha un totale di 6 punti \n",
      "Norris ha un totale di 6 punti \n",
      "Gasly ha un totale di 6 punti \n",
      "De Vries ha un totale di 2 punti \n",
      "Tsunoda ha un totale di 0 punti \n",
      "Piastri ha un totale di 2 punti \n",
      "Yu Zhou ha un totale di 0 punti \n",
      "Sargeant ha un totale di 2 punti \n",
      "Bottas ha un totale di 0 punti \n",
      "Perez ha un totale di 6 punti \n"
     ]
    }
   ],
   "source": [
    "y = pl2(x, lista_piloti_pl1)\n",
    "for i in range(0, len(y[\"nome\"])):\n",
    "    print(y[\"nome\"][i] + \" ha un totale di \" + str(y[\"punti\"][i]) + \" punti \" )"
   ]
  },
  {
   "cell_type": "code",
   "execution_count": null,
   "id": "1570f18f",
   "metadata": {},
   "outputs": [],
   "source": [
    "#Calcolo prova libera 3\n",
    "def pl3 (nome_pilota, lista_piloti_pl3):\n",
    "    if not lista_piloti_pl3:\n",
    "        return 0\n",
    "    else:\n",
    "        for i in range(0, len(lista_piloti_pl3)):\n",
    "            if(lista_piloti_pl3[i] == nome_pilota):\n",
    "                if(i<4):\n",
    "                    return 6\n",
    "                else:\n",
    "                    return 0"
   ]
  },
  {
   "cell_type": "code",
   "execution_count": null,
   "id": "00e90b5e",
   "metadata": {},
   "outputs": [],
   "source": [
    "#Calcolo qualifica sprint\n",
    "def sprint(nome_pilota, lista_piloti_sprint):\n",
    "    if not lista_piloti_sprint:\n",
    "        return 0\n",
    "    else:\n",
    "        for i in range(0, len(lista_piloti_sprint)):\n",
    "            if(lista_piloti_sprint[i] == nome_pilota):\n",
    "                if (i==0):\n",
    "                    return 8;\n",
    "                elif(i==1):\n",
    "                    return 7;\n",
    "                elif(i==2):\n",
    "                    return 6;\n",
    "                elif(i==3):\n",
    "                    return 5;\n",
    "                elif(i==4):\n",
    "                    return 4;\n",
    "                elif(i==5):\n",
    "                    return 3;\n",
    "                elif(i==6):\n",
    "                    return 2;\n",
    "                elif(i==7):\n",
    "                    return 1;\n",
    "                else:\n",
    "                    return 0;"
   ]
  }
 ],
 "metadata": {
  "kernelspec": {
   "display_name": "Python 3 (ipykernel)",
   "language": "python",
   "name": "python3"
  },
  "language_info": {
   "codemirror_mode": {
    "name": "ipython",
    "version": 3
   },
   "file_extension": ".py",
   "mimetype": "text/x-python",
   "name": "python",
   "nbconvert_exporter": "python",
   "pygments_lexer": "ipython3",
   "version": "3.9.12"
  }
 },
 "nbformat": 4,
 "nbformat_minor": 5
}
