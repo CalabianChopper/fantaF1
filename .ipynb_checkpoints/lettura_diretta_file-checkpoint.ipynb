{
 "cells": [
  {
   "cell_type": "markdown",
   "id": "45915898",
   "metadata": {},
   "source": [
    "import requests\n",
    "from bs4 import BeautifulSoup\n",
    "import csv"
   ]
  },
  {
   "cell_type": "markdown",
   "id": "985e4148",
   "metadata": {},
   "source": [
    "# URL della pagina web da cui estrarre i risultati\n",
    "url = 'https://it.motorsport.com/f1/results/2023/gp-daustralia-625627/?st=RACE'\n"
   ]
  },
  {
   "cell_type": "markdown",
   "id": "5543ee53",
   "metadata": {},
   "source": [
    "# Effettua una richiesta GET della pagina web e ottiene il contenuto HTML\n",
    "response = requests.get(url)"
   ]
  },
  {
   "cell_type": "markdown",
   "id": "d3842ea8",
   "metadata": {},
   "source": [
    "# Parsing del contenuto HTML con BeautifulSoup\n",
    "soup = BeautifulSoup(response.content, 'html.parser')"
   ]
  },
  {
   "cell_type": "markdown",
   "id": "6ac382ba",
   "metadata": {},
   "source": [
    "BASE_URL.format(row['prefix_1'], year, row['prefix_2'])"
   ]
  },
  {
   "cell_type": "markdown",
   "id": "802c65a6",
   "metadata": {},
   "source": [
    "# Trova la tabella dei risultati\n",
    "table = soup.find('table', class_='table-sm').tbody"
   ]
  },
  {
   "cell_type": "markdown",
   "id": "4a9fea1d",
   "metadata": {},
   "source": [
    "# Crea una lista vuota per salvare i dati dei risultati\n",
    "results = []"
   ]
  },
  {
   "cell_type": "markdown",
   "id": "14ba0aa8",
   "metadata": {},
   "source": [
    "# Cicla tra tutte le righe della tabella\n",
    "for row in table.find_all('tr'):\n",
    "    # Trova tutte le celle della riga\n",
    "    cells = row.find_all('td')\n",
    "    # Estrae i valori delle celle e li aggiunge alla lista dei risultati\n",
    "    results.append([cell.text.strip() for cell in cells])"
   ]
  },
  {
   "cell_type": "markdown",
   "id": "ccb94c1c",
   "metadata": {},
   "source": [
    "# Salva i risultati in un file CSV\n",
    "with open('risultati.csv', 'w', newline='', encoding='utf-8') as f:\n",
    "    writer = csv.writer(f)\n",
    "    writer.writerows(results)"
   ]
  },
  {
   "cell_type": "code",
   "execution_count": 1,
   "id": "11baa66f",
   "metadata": {},
   "outputs": [],
   "source": [
    "import requests\n",
    "from bs4 import BeautifulSoup"
   ]
  },
  {
   "cell_type": "markdown",
   "id": "e31644e3",
   "metadata": {},
   "source": [
    "url = \"https://www.quattroruote.it/formula1/risultati.shtml\"\n",
    "html = requests.get(url).text\n",
    "soup = BeautifulSoup(html, 'html.parser')"
   ]
  },
  {
   "cell_type": "markdown",
   "id": "fb2b37e6",
   "metadata": {},
   "source": [
    "# estraiamo tutte le tabelle dalla pagina\n",
    "tables = soup.find_all('table')\n"
   ]
  },
  {
   "cell_type": "code",
   "execution_count": 2,
   "id": "d4230bd9",
   "metadata": {},
   "outputs": [],
   "source": [
    "matrix = []\n",
    "lista = []"
   ]
  },
  {
   "cell_type": "markdown",
   "id": "176bf8eb",
   "metadata": {},
   "source": [
    "for table in tables:\n",
    "    rows = table.find_all('tr')\n",
    "    for row in rows:\n",
    "        cols = row.find_all('td')\n",
    "        row_list = []\n",
    "        for col in cols:\n",
    "            row_list.append(col.text.strip())\n",
    "        matrix.append(row_list)"
   ]
  },
  {
   "cell_type": "markdown",
   "id": "1c63c6b7",
   "metadata": {},
   "source": [
    "matrix = matrix[1:21]"
   ]
  },
  {
   "cell_type": "markdown",
   "id": "471a2f09",
   "metadata": {},
   "source": [
    "matrix"
   ]
  },
  {
   "cell_type": "markdown",
   "id": "e3ae3be5",
   "metadata": {},
   "source": [
    "for i in range(0, 20):\n",
    "    lista.append(matrix[i][1])"
   ]
  },
  {
   "cell_type": "markdown",
   "id": "2723a67a",
   "metadata": {},
   "source": [
    "lista"
   ]
  },
  {
   "cell_type": "code",
   "execution_count": 3,
   "id": "875e286a",
   "metadata": {},
   "outputs": [],
   "source": [
    "url = \"https://www.flashscore.it/auto/formula-1/\"\n",
    "html = requests.get(url).text\n",
    "soup = BeautifulSoup(html, 'html.parser')"
   ]
  },
  {
   "cell_type": "code",
   "execution_count": 5,
   "id": "ae35f515",
   "metadata": {},
   "outputs": [
    {
     "ename": "SyntaxError",
     "evalue": "EOL while scanning string literal (1846503586.py, line 1)",
     "output_type": "error",
     "traceback": [
      "\u001b[1;36m  Input \u001b[1;32mIn [5]\u001b[1;36m\u001b[0m\n\u001b[1;33m    div_content = soup.find(\"div\", class_=\"event__participantName\"\")\u001b[0m\n\u001b[1;37m                                                                    ^\u001b[0m\n\u001b[1;31mSyntaxError\u001b[0m\u001b[1;31m:\u001b[0m EOL while scanning string literal\n"
     ]
    }
   ],
   "source": [
    "div_content = soup.find(\"div\", class_=\"event__participantName\")"
   ]
  },
  {
   "cell_type": "code",
   "execution_count": null,
   "id": "cdaff70d",
   "metadata": {},
   "outputs": [],
   "source": [
    "div_content"
   ]
  },
  {
   "cell_type": "markdown",
   "id": "dbc06730",
   "metadata": {},
   "source": [
    "# Esempio URL della pagina web\n",
    "url = \"https://www.flashscore.it/auto/formula-1/\"\n",
    "\n",
    "# Effettua una richiesta HTTP per ottenere il contenuto della pagina web\n",
    "page = requests.get(url)\n",
    "\n",
    "# Utilizza BeautifulSoup per analizzare il contenuto della pagina html\n",
    "soup = BeautifulSoup(page.content, 'html.parser')\n",
    "\n",
    "# Trova tutti gli elementi div con la classe \"event__participantName\"\n",
    "participant_names = soup.find_all('div', class_='event__participantName')\n",
    "\n",
    "# Stampa il contenuto dei div trovati\n",
    "for name in participant_names:\n",
    "    print(name)"
   ]
  },
  {
   "cell_type": "code",
   "execution_count": null,
   "id": "37748167",
   "metadata": {},
   "outputs": [],
   "source": []
  }
 ],
 "metadata": {
  "kernelspec": {
   "display_name": "Python 3 (ipykernel)",
   "language": "python",
   "name": "python3"
  },
  "language_info": {
   "codemirror_mode": {
    "name": "ipython",
    "version": 3
   },
   "file_extension": ".py",
   "mimetype": "text/x-python",
   "name": "python",
   "nbconvert_exporter": "python",
   "pygments_lexer": "ipython3",
   "version": "3.9.12"
  }
 },
 "nbformat": 4,
 "nbformat_minor": 5
}
